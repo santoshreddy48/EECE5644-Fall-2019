{
 "cells": [
  {
   "cell_type": "code",
   "execution_count": 13,
   "metadata": {},
   "outputs": [],
   "source": [
    "import numpy as np"
   ]
  },
  {
   "cell_type": "code",
   "execution_count": 16,
   "metadata": {},
   "outputs": [
    {
     "name": "stdout",
     "output_type": "stream",
     "text": [
      "[[1.  0. ]\n",
      " [0.8 0.6]]\n"
     ]
    }
   ],
   "source": [
    "d = 2 # Number of dimensions\n",
    "mu = np.matrix([[0.], [1.]])\n",
    "covariance = np.matrix([\n",
    "    [1, 0.8], \n",
    "    [0.8, 1]\n",
    "])\n",
    "\n",
    "#Extract A by decomposing covarience using choleskey decomposition technique\n",
    "A = np.linalg.cholesky(covariance)\n",
    "print(A)"
   ]
  }
 ],
 "metadata": {
  "kernelspec": {
   "display_name": "Python 3",
   "language": "python",
   "name": "python3"
  },
  "language_info": {
   "codemirror_mode": {
    "name": "ipython",
    "version": 3
   },
   "file_extension": ".py",
   "mimetype": "text/x-python",
   "name": "python",
   "nbconvert_exporter": "python",
   "pygments_lexer": "ipython3",
   "version": "3.7.3"
  }
 },
 "nbformat": 4,
 "nbformat_minor": 4
}
