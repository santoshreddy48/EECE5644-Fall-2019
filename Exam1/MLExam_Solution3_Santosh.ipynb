{
 "cells": [
  {
   "cell_type": "code",
   "execution_count": 15,
   "metadata": {},
   "outputs": [],
   "source": [
    "import numpy as np\n",
    "import matplotlib.pyplot as plt"
   ]
  },
  {
   "cell_type": "code",
   "execution_count": 16,
   "metadata": {},
   "outputs": [],
   "source": [
    "def sol_3():\n",
    "    List=[]\n",
    "    for val1 in range(-4,4):\n",
    "        subList=[]\n",
    "        for val2 in range(100):\n",
    "            \n",
    "            x=np.random.uniform(-1,1,(10,4))\n",
    "            v=np.random.normal(0,5)\n",
    "            \n",
    "            gamma=10**val1\n",
    "            x[:,3]=1\n",
    "            \n",
    "            X=np.array([x[:,0]**3,x[:,1]**2,x[:,2],10*[1]]).reshape(10,4)\n",
    "            wTrue=np.array([1,-1,-0.09,0.09]).reshape(4,1)\n",
    "    \n",
    "            yTrue=(np.matmul(X,wTrue)+v)\n",
    "            wMap=np.linalg.inv((np.identity(4)/gamma**2+X.T@X))@X.T@(np.matmul(X,wTrue)+v)\n",
    "\n",
    "            l2Distance=np.sum((wMap-wTrue)**2)\n",
    "            List.append(l2Distance)\n",
    "            subList.append(l2Distance)\n",
    "\n",
    "        print(\"For gamma=\",10**val1,\":\")\n",
    "        print(\"\\t minimum value of L2 distance : \", '%.7f'%(np.quantile( subList, 0)))\n",
    "        print(\"\\t maximum value of L2 distance : \", '%.7f'%(np.quantile( subList, 1)))\n",
    "        \n",
    "        print(\"\\n\")\n",
    "        \n",
    "        print(\"\\t median value of L2 distance :\", '%.7f'%(np.quantile( subList, 0.5))) \n",
    "        \n",
    "        print(\"\\n\")\n",
    "        \n",
    "        print(\"\\t 25% value of L2 distance : \", '%.7f'%(np.quantile( subList, 0.25))) \n",
    "        print(\"\\t 75% value of L2 distance :  \", '%.7f'%(np.quantile( subList, 0.75)))\n",
    "        \n",
    "        print(\"\")\n",
    "        print(\"\")\n",
    "\n",
    "    \n",
    "    data=[List[:100],List[100:200],List[200:300],List[300:400],List[400:500],List[500:600],List[600:700],List[700:800],List[800:900]]\n",
    "    plt.boxplot(data,positions=[1,2,3,4,5,6,7,8,9],showfliers=False,patch_artist=True)\n",
    "    \n",
    "    plt.show() \n",
    "    \n",
    "   \n"
   ]
  },
  {
   "cell_type": "code",
   "execution_count": 17,
   "metadata": {},
   "outputs": [
    {
     "name": "stdout",
     "output_type": "stream",
     "text": [
      "For gamma= 0.0001 :\n",
      "\t minimum value of L2 distance :  2.0161994\n",
      "\t maximum value of L2 distance :  2.0162012\n",
      "\n",
      "\n",
      "\t median value of L2 distance : 2.0161999\n",
      "\n",
      "\n",
      "\t 25% value of L2 distance :  2.0161998\n",
      "\t 75% value of L2 distance :   2.0162000\n",
      "\n",
      "\n",
      "For gamma= 0.001 :\n",
      "\t minimum value of L2 distance :  2.0161249\n",
      "\t maximum value of L2 distance :  2.0162445\n",
      "\n",
      "\n",
      "\t median value of L2 distance : 2.0161928\n",
      "\n",
      "\n",
      "\t 25% value of L2 distance :  2.0161827\n",
      "\t 75% value of L2 distance :   2.0162014\n",
      "\n",
      "\n",
      "For gamma= 0.01 :\n",
      "\t minimum value of L2 distance :  2.0107927\n",
      "\t maximum value of L2 distance :  2.0214183\n",
      "\n",
      "\n",
      "\t median value of L2 distance : 2.0156021\n",
      "\n",
      "\n",
      "\t 25% value of L2 distance :  2.0147864\n",
      "\t 75% value of L2 distance :   2.0163118\n",
      "\n",
      "\n",
      "For gamma= 0.1 :\n",
      "\t minimum value of L2 distance :  1.4579106\n",
      "\t maximum value of L2 distance :  3.3996929\n",
      "\n",
      "\n",
      "\t median value of L2 distance : 1.9882165\n",
      "\n",
      "\n",
      "\t 25% value of L2 distance :  1.9236273\n",
      "\t 75% value of L2 distance :   2.0897786\n",
      "\n",
      "\n",
      "For gamma= 1 :\n",
      "\t minimum value of L2 distance :  0.1210215\n",
      "\t maximum value of L2 distance :  124.4357103\n",
      "\n",
      "\n",
      "\t median value of L2 distance : 8.0531641\n",
      "\n",
      "\n",
      "\t 25% value of L2 distance :  2.0317228\n",
      "\t 75% value of L2 distance :   17.3297977\n",
      "\n",
      "\n",
      "For gamma= 10 :\n",
      "\t minimum value of L2 distance :  0.0077097\n",
      "\t maximum value of L2 distance :  1019.3404419\n",
      "\n",
      "\n",
      "\t median value of L2 distance : 26.6184442\n",
      "\n",
      "\n",
      "\t 25% value of L2 distance :  5.4372596\n",
      "\t 75% value of L2 distance :   70.4785188\n",
      "\n",
      "\n",
      "For gamma= 100 :\n",
      "\t minimum value of L2 distance :  0.0517640\n",
      "\t maximum value of L2 distance :  665.7771520\n",
      "\n",
      "\n",
      "\t median value of L2 distance : 24.1564189\n",
      "\n",
      "\n",
      "\t 25% value of L2 distance :  5.3638643\n",
      "\t 75% value of L2 distance :   73.3466130\n",
      "\n",
      "\n",
      "For gamma= 1000 :\n",
      "\t minimum value of L2 distance :  0.0202501\n",
      "\t maximum value of L2 distance :  1037.6987463\n",
      "\n",
      "\n",
      "\t median value of L2 distance : 25.7183273\n",
      "\n",
      "\n",
      "\t 25% value of L2 distance :  5.2708421\n",
      "\t 75% value of L2 distance :   107.9397781\n",
      "\n",
      "\n"
     ]
    },
    {
     "data": {
      "image/png": "[encoded data removed]",
      "text/plain": [
       "<Figure size 432x288 with 1 Axes>"
      ]
     },
     "metadata": {
      "needs_background": "light"
     },
     "output_type": "display_data"
    }
   ],
   "source": [
    "sol_3()"
   ]
  },
  {
   "cell_type": "markdown",
   "metadata": {},
   "source": [
    "# As the value gamma increases MAP tends to become MLE."
   ]
  },
  {
   "cell_type": "code",
   "execution_count": null,
   "metadata": {},
   "outputs": [],
   "source": []
  }
 ],
 "metadata": {
  "kernelspec": {
   "display_name": "Python 3",
   "language": "python",
   "name": "python3"
  },
  "language_info": {
   "codemirror_mode": {
    "name": "ipython",
    "version": 3
   },
   "file_extension": ".py",
   "mimetype": "text/x-python",
   "name": "python",
   "nbconvert_exporter": "python",
   "pygments_lexer": "ipython3",
   "version": "3.7.3"
  }
 },
 "nbformat": 4,
 "nbformat_minor": 2
}
